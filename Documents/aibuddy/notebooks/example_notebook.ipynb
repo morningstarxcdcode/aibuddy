{
 "cells": [
  {
   "cell_type": "code",
   "execution_count": null,
   "id": "6609d3eb",
   "metadata": {},
   "outputs": [],
   "source": [
    "# Example Jupyter Notebook\n",
    "from aibuddy import core\n",
    "\n",
    "result = core.some_function()\n",
    "print(result)"
   ]
  }
 ],
 "metadata": {
  "language_info": {
   "name": "python"
  }
 },
 "nbformat": 4,
 "nbformat_minor": 5
}
